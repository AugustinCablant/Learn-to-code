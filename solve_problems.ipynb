{
 "cells": [
  {
   "cell_type": "code",
   "execution_count": 1,
   "metadata": {},
   "outputs": [],
   "source": [
    "import numpy as np \n",
    "import matplotlib.pyplot as plt"
   ]
  },
  {
   "cell_type": "markdown",
   "metadata": {},
   "source": [
    "# Triangle \n",
    "\n",
    "Given a triangle array, return the minimum path sum from top to bottom.\n",
    "\n",
    "For each step, you may move to an adjacent number of the row below. More formally, if you are on index i on the current row, you may move to either index i or index i + 1 on the next row."
   ]
  },
  {
   "cell_type": "code",
   "execution_count": 4,
   "metadata": {},
   "outputs": [],
   "source": [
    "def minimumTotal(triangle):\n",
    "        n = len(triangle) #number of choices\n",
    "        if n == 1: \n",
    "            return triangle[0][0]\n",
    "        else:\n",
    "            for row in range(len(triangle) - 2, -1, -1):\n",
    "                for col in range(len(triangle[row])):\n",
    "                    triangle[row][col] += min(triangle[row+1][col], triangle[row+1][col+1])\n",
    "            return triangle[0][0]"
   ]
  },
  {
   "cell_type": "code",
   "execution_count": 5,
   "metadata": {},
   "outputs": [
    {
     "data": {
      "text/plain": [
       "11"
      ]
     },
     "execution_count": 5,
     "metadata": {},
     "output_type": "execute_result"
    }
   ],
   "source": [
    "triangle = [[2],[3,4],[6,5,7],[4,1,8,3]]\n",
    "minimumTotal(triangle)"
   ]
  },
  {
   "cell_type": "markdown",
   "metadata": {},
   "source": [
    "# Minimum Number of Arrows to Burst Balloons \n",
    "\n",
    "There are some spherical balloons taped onto a flat wall that represents the XY-plane. The balloons are represented as a 2D integer array points where points[i] = [xstart, xend] denotes a balloon whose horizontal diameter stretches between xstart and xend. You do not know the exact y-coordinates of the balloons.\n",
    "\n",
    "Arrows can be shot up directly vertically (in the positive y-direction) from different points along the x-axis. A balloon with xstart and xend is burst by an arrow shot at x if xstart <= x <= xend. There is no limit to the number of arrows that can be shot. A shot arrow keeps traveling up infinitely, bursting any balloons in its path.\n",
    "\n",
    "Given the array points, return the minimum number of arrows that must be shot to burst all balloons."
   ]
  },
  {
   "cell_type": "code",
   "execution_count": 82,
   "metadata": {},
   "outputs": [],
   "source": [
    "def findMinArrowShots(points):\n",
    "        min_value = min(point[0] for point in points)\n",
    "        max_value = max(point[1] for point in points)\n",
    "        killed = [1] * len(points)\n",
    "        indice_x = [0] * (max_value + 1 - min_value)\n",
    "        for indice, x in enumerate(range(min_value, max_value + 1)):\n",
    "            nb_killed = 0 \n",
    "            liste_points_killed = []\n",
    "            for i, point in enumerate(points):\n",
    "                if x in range(point[0], point[1] + 1):\n",
    "                    nb_killed += 1\n",
    "                    liste_points_killed.append([point[0], point[1]])\n",
    "            indice_x[indice] = [nb_killed, liste_points_killed]\n",
    "        liste = [[i, nb_killed[0], nb_killed[1]] for i, nb_killed in enumerate(indice_x)]\n",
    "        liste_sorted = sorted(liste, key=lambda x: x[1])[::-1]\n",
    "        Arrows = [liste_sorted[0][0] + min_value]\n",
    "        killed_points = [element for element in liste_sorted[0][2]]\n",
    "        indice_killed_points = [points.index(killed_point) for killed_point in killed_points]\n",
    "        for i in indice_killed_points:\n",
    "             killed[i] = 0\n",
    "        liste_sorted = [\n",
    "                        element for element in liste_sorted \n",
    "                            if all(sub_element not in killed_points for sub_element in element[2])\n",
    "                        ]\n",
    "        while killed != [0] * len(points):\n",
    "            Arrows.append(liste_sorted[0][0] + min_value)\n",
    "            killed_points = [element for element in liste_sorted[0][2]]\n",
    "            indice_killed_points = [points.index(killed_point) for killed_point in killed_points]\n",
    "            for i in indice_killed_points:\n",
    "                killed[i] = 0\n",
    "                liste_sorted = [\n",
    "                        element for element in liste_sorted \n",
    "                            if all(sub_element not in killed_points for sub_element in element[2])\n",
    "                        ]\n",
    "        return len(Arrows)"
   ]
  },
  {
   "cell_type": "code",
   "execution_count": 83,
   "metadata": {},
   "outputs": [
    {
     "data": {
      "text/plain": [
       "2"
      ]
     },
     "execution_count": 83,
     "metadata": {},
     "output_type": "execute_result"
    }
   ],
   "source": [
    "findMinArrowShots(points)"
   ]
  },
  {
   "cell_type": "code",
   "execution_count": 75,
   "metadata": {},
   "outputs": [
    {
     "data": {
      "image/png": "[encoded data removed]",
      "text/plain": [
       "<Figure size 1200x800 with 1 Axes>"
      ]
     },
     "metadata": {},
     "output_type": "display_data"
    }
   ],
   "source": [
    "points = [[1,2],[2,3],[3,4],[4,5]]\n",
    "\n",
    "plt.figure(figsize=(12, 8))\n",
    "ax = plt.gca()  # Obtenir l'axe courant\n",
    "\n",
    "for point in points:\n",
    "    center_x = point[0] + (point[1] - point[0]) / 2\n",
    "    radius = (point[1] - point[0]) / 2\n",
    "    circle = plt.Circle((center_x, center_x), radius, facecolor='none', edgecolor='b')\n",
    "    ax.add_patch(circle)  # Ajouter le cercle à l'axe\n",
    "\n",
    "ax.set_xlim(0, 20)\n",
    "ax.set_ylim(0, 20)\n",
    "ax.set_aspect('equal')  # Pour s'assurer que le cercle est rond\n",
    "\n",
    "plt.show()"
   ]
  },
  {
   "cell_type": "markdown",
   "metadata": {},
   "source": [
    "# Word Search\n",
    "\n",
    "Given an m x n grid of characters board and a string word, return true if word exists in the grid.\n",
    "\n",
    "The word can be constructed from letters of sequentially adjacent cells, where adjacent cells are horizontally or vertically neighboring. The same letter cell may not be used more than once."
   ]
  },
  {
   "cell_type": "code",
   "execution_count": 35,
   "metadata": {},
   "outputs": [],
   "source": [
    "import copy\n",
    "def create_mapped_board(board):\n",
    "    mapped_board = copy.deepcopy(board)\n",
    "    init = -4\n",
    "    n_rows = len(board)\n",
    "    n_cols = len(board[0] if n_rows > 0 else 0) \n",
    "    for i, row in enumerate(board): \n",
    "        init += 4\n",
    "        for j, col in enumerate(row):\n",
    "            mapped_board[i][j] = [i,j, init + j + 1]\n",
    "    return mapped_board\n",
    "\n",
    "def retourner_mots(board):\n",
    "    \"\"\" \n",
    "    Exemple de board : \n",
    "    [[1,2,3,4], \n",
    "    [5,6,7,8],\n",
    "    ...]]\n",
    "    On sait dès lors que pour passer d'une lettre à l'autre on fait +-1 ou +-4\n",
    "    end = x,y coordonnées du point d'arrivée\n",
    "    Et on parcourt de manière récursive les différentes combinaisons\n",
    "    \"\"\"\n",
    "    def previous(points_parcourus, point):\n",
    "        \"\"\" \n",
    "        En partant d'un point, donne les possibilités du point d'avant si pas déjà parcouru.\n",
    "        \"\"\"\n",
    "        liste_previous = []\n",
    "        for possible in [-4, -1, 1, 4]:\n",
    "            if ((point + possible) in range(len(points_parcourus))) and (points_parcourus[point + possible - 1]!=0):\n",
    "                liste_previous.append(point + possible)\n",
    "        return [previous(element) for element in liste_previous]\n",
    "    \n",
    "    mapped_board = create_mapped_board(board)\n",
    "    mapped_board_flatten = [item for sublist in mapped_board for item in sublist]\n",
    "    liste_mots = []\n",
    "    for i, element in enumerate(mapped_board_flatten):\n",
    "        list_of_end = [element[2] for element in mapped_board_flatten]\n",
    "        x,y = element[0], element[1]\n",
    "        list_of_end[i] = 0  #on ne reviendra pas \n",
    "        chemin = [element]\n",
    "        while previous\n",
    "\n",
    "\n",
    "\n",
    "    return liste_mots \n",
    "\n",
    "def exist(board):\n",
    "    # Initialisation \n",
    "    n_rows = len(board)\n",
    "    n_cols = len(board[0] if n_rows > 0 else 0) \n",
    "    mapped_board = create_mapped_board(board)\n",
    "\n",
    "    # Liste des mots que l'on peut créer\n",
    "    liste_mots = []\n",
    "\n",
    "    # Différents points de départ que l'on peut prendre\n",
    "    start_point = [i for i in range(n_rows * n_cols)] #Mettre à 0 lorsque parcouru\n",
    "\n",
    "    for i, depart in enumerate(start_point):\n",
    "        start_point[i] = 0  #Départ ok\n",
    "\n",
    "        # Parcourir les mots que l'on peut créer depuis ce point\n",
    "        x, y, score = mapped_board[i][0], mapped_board[i][1], mapped_board[i][2] \n",
    "        \n",
    "    return None"
   ]
  },
  {
   "cell_type": "code",
   "execution_count": 43,
   "metadata": {},
   "outputs": [
    {
     "data": {
      "text/plain": [
       "[[[0, 0, 1], [0, 1, 2], [0, 2, 3], [0, 3, 4]],\n",
       " [[1, 0, 5], [1, 1, 6], [1, 2, 7], [1, 3, 8]],\n",
       " [[2, 0, 9], [2, 1, 10], [2, 2, 11], [2, 3, 12]]]"
      ]
     },
     "execution_count": 43,
     "metadata": {},
     "output_type": "execute_result"
    }
   ],
   "source": [
    "board = [[\"A\",\"B\",\"C\",\"E\"],[\"S\",\"F\",\"C\",\"S\"],[\"A\",\"D\",\"E\",\"E\"]]\n",
    "word = \"ABCCED\"\n",
    "mapped_board = create_mapped_board(board)\n",
    "mapped_board"
   ]
  },
  {
   "cell_type": "code",
   "execution_count": 67,
   "metadata": {},
   "outputs": [
    {
     "ename": "TypeError",
     "evalue": "object of type 'int' has no len()",
     "output_type": "error",
     "traceback": [
      "\u001b[0;31m---------------------------------------------------------------------------\u001b[0m",
      "\u001b[0;31mTypeError\u001b[0m                                 Traceback (most recent call last)",
      "\u001b[0;32m/var/folders/bt/r1dg46ys21lb57m4n4x11m6c0000gn/T/ipykernel_13416/3874545592.py\u001b[0m in \u001b[0;36m<module>\u001b[0;34m\u001b[0m\n\u001b[0;32m----> 1\u001b[0;31m \u001b[0mlen\u001b[0m\u001b[0;34m(\u001b[0m\u001b[0;36m4\u001b[0m\u001b[0;34m)\u001b[0m\u001b[0;34m\u001b[0m\u001b[0;34m\u001b[0m\u001b[0m\n\u001b[0m",
      "\u001b[0;31mTypeError\u001b[0m: object of type 'int' has no len()"
     ]
    }
   ],
   "source": [
    "len(4)"
   ]
  },
  {
   "cell_type": "code",
   "execution_count": 70,
   "metadata": {},
   "outputs": [
    {
     "name": "stdout",
     "output_type": "stream",
     "text": [
      "[[11, 7, 3, 2, 1], [11, 7, 3, 4], [11, 7, 6, 5], [11, 7, 8], [11, 10, 9], [11, 12]]\n"
     ]
    }
   ],
   "source": [
    "mapped_board_flatten = [item for sublist in mapped_board for item in sublist]\n",
    "list_of_end = [element[2] for element in mapped_board_flatten]\n",
    "def previous(point):\n",
    "    \"\"\" \n",
    "    En partant d'un point, donne les possibilités du point d'avant si pas déjà parcouru.\n",
    "    \"\"\"\n",
    "    visited = [1] * len(list_of_end)\n",
    "    visited[point - 1] = 0\n",
    "    \n",
    "    def give_previous(liste_x):\n",
    "        chemins = []\n",
    "        for sub_liste_x in liste_x:\n",
    "            if isinstance(sub_liste_x, int):\n",
    "                sub_liste_x = [sub_liste_x]\n",
    "            x = sub_liste_x[-1]  # dernier point du chemin\n",
    "            found_any = False\n",
    "            for op in [-4, -1, 1, 4]:\n",
    "                new_point = x + op\n",
    "                if 0 <= new_point - 1 < len(list_of_end):\n",
    "                    if visited[new_point - 1] == 1:\n",
    "                        visited[new_point - 1] = 0\n",
    "                        chemins.append(sub_liste_x + [new_point])\n",
    "                        found_any = True\n",
    "            if not found_any:\n",
    "                chemins.append(sub_liste_x)\n",
    "        return chemins\n",
    "\n",
    "    # Initialiser avec le point de départ\n",
    "    chemins_resultats = [[point]]\n",
    "    while True:\n",
    "        nouveaux_chemins = give_previous(chemins_resultats)\n",
    "        if nouveaux_chemins == chemins_resultats:\n",
    "            break\n",
    "        chemins_resultats = nouveaux_chemins\n",
    "    \n",
    "    return chemins_resultats\n",
    "\n",
    "# Exemple d'utilisation\n",
    "result = previous(11)\n",
    "print(result)           "
   ]
  },
  {
   "cell_type": "markdown",
   "metadata": {},
   "source": [
    "# Algorithme de djikstra\n",
    "\n",
    "  But : L'algorithme de Dijkstra est un algorithme classique utilisé pour trouver le chemin le plus court entre des sommets dans un graphe pondéré. Voici une description générale de l'algorithme ainsi qu'une implémentation en Python.\n",
    "\n",
    "\n",
    "- Initialisation : Assigner une distance de 0 au point de départ et l'infini à tous les autres nœuds.\n",
    "Marquer tous les nœuds comme non visités. Créer un ensemble de tous les nœuds non visités.\n",
    "\n",
    "- Sélection du nœud le plus proche : Sélectionner le nœud non visité avec la distance la plus petite (au début, c'est le point de départ).\n",
    "\n",
    "- Mise à jour des distances : Pour le nœud actuel, considérer tous ses voisins non visités et calculer leur distance à partir du point de départ en utilisant la distance du nœud actuel. Comparer la distance nouvellement calculée avec la valeur actuelle assignée aux voisins et mettre à jour la distance minimale. Une fois les voisins traités, marquer le nœud actuel comme visité.\n",
    "\n",
    "- Répéter : Répéter les étapes 2 et 3 jusqu'à ce que tous les nœuds soient visités ou que le nœud le plus proche soit à l'infini."
   ]
  },
  {
   "cell_type": "code",
   "execution_count": 11,
   "metadata": {},
   "outputs": [],
   "source": [
    "def dijkstra(graph, start):\n",
    "    # Initialisation des distances et des nœuds non visités\n",
    "    distances = {vertex: float('infinity') for vertex in graph}\n",
    "    distances[start] = 0\n",
    "    unvisited = list(graph.keys())\n",
    "    \n",
    "    while unvisited:\n",
    "        # Sélectionner le nœud non visité avec la distance la plus petite\n",
    "        current_vertex = min(unvisited, key=lambda vertex: distances[vertex])\n",
    "        \n",
    "        # Retirer le nœud sélectionné de la liste des nœuds non visités\n",
    "        unvisited.remove(current_vertex)\n",
    "        \n",
    "        # Mettre à jour les distances pour les voisins du nœud actuel\n",
    "        for neighbor, weight in graph[current_vertex].items():\n",
    "            distance = distances[current_vertex] + weight\n",
    "            if distance < distances[neighbor]:\n",
    "                distances[neighbor] = distance\n",
    "\n",
    "    return distances"
   ]
  },
  {
   "cell_type": "code",
   "execution_count": 12,
   "metadata": {},
   "outputs": [
    {
     "name": "stdout",
     "output_type": "stream",
     "text": [
      "Distances from start node A: {'A': 0, 'B': 1, 'C': 3, 'D': 4}\n"
     ]
    }
   ],
   "source": [
    "# Exemple de graphe\n",
    "graph = {\n",
    "    'A': {'B': 1, 'C': 4},\n",
    "    'B': {'A': 1, 'C': 2, 'D': 5},\n",
    "    'C': {'A': 4, 'B': 2, 'D': 1},\n",
    "    'D': {'B': 5, 'C': 1}\n",
    "}\n",
    "\n",
    "start_node = 'A'\n",
    "distances = dijkstra(graph, start_node)\n",
    "print(f\"Distances from start node {start_node}: {distances}\")"
   ]
  },
  {
   "cell_type": "markdown",
   "metadata": {},
   "source": [
    "# Best Time to Buy and Sell Stock\n",
    "\n",
    "You are given an array prices where prices[i] is the price of a given stock on the ith day.\n",
    "\n",
    "You want to maximize your profit by choosing a single day to buy one stock and choosing a different day in the future to sell that stock.\n",
    "\n",
    "Return the maximum profit you can achieve from this transaction. If you cannot achieve any profit, return 0."
   ]
  },
  {
   "cell_type": "code",
   "execution_count": 43,
   "metadata": {},
   "outputs": [],
   "source": [
    "def maxProfit(prices):\n",
    "    profit_max = 0\n",
    "    for index_achat, achat in enumerate(prices):\n",
    "        max_revente = max(prices[index_achat:])\n",
    "        profit = max_revente - achat \n",
    "        if profit > profit_max:\n",
    "            profit_max = profit\n",
    "    return profit_max"
   ]
  },
  {
   "cell_type": "code",
   "execution_count": 44,
   "metadata": {},
   "outputs": [
    {
     "data": {
      "text/plain": [
       "5"
      ]
     },
     "execution_count": 44,
     "metadata": {},
     "output_type": "execute_result"
    }
   ],
   "source": [
    "prices = [7,1,5,3,6,4]\n",
    "maxProfit(prices)"
   ]
  },
  {
   "cell_type": "markdown",
   "metadata": {},
   "source": [
    "# Best Time to Buy and Sell Stock II\n",
    "\n",
    "You are given an integer array prices where prices[i] is the price of a given stock on the ith day.\n",
    "\n",
    "On each day, you may decide to buy and/or sell the stock. You can only hold at most one share of the stock at any time. However, you can buy it then immediately sell it on the same day.\n",
    "\n",
    "Find and return the maximum profit you can achieve."
   ]
  },
  {
   "cell_type": "code",
   "execution_count": 151,
   "metadata": {},
   "outputs": [],
   "source": [
    "def maxProfit(prices):\n",
    "    max_profit = 0 \n",
    "    n = len(prices)\n",
    "\n",
    "    # On peut faire au maximum n / 2 achats-reventes si n pair, (n - 1) / 2 si n impair \n",
    "    if n % 2 == 0 : nb_max_operations = n / 2\n",
    "    else: nb_max_operations = (n - 1) / 2\n",
    "    nb_max_operations = int(nb_max_operations)\n",
    "    while nb_max_operations >=1:\n",
    "        sub_max_profit = 0\n",
    "        indexed_prices = [[index, price] for index,price in enumerate(prices)]\n",
    "        sorted_indexed_prices = sorted(indexed_prices, key=lambda x: x[1])\n",
    "\n",
    "        top_achat_indexed = sorted_indexed_prices[:nb_max_operations]  #il y a nb_max_operations d'achats potentiels\n",
    "        sorted_top_achat_indexed = sorted(top_achat_indexed, key=lambda x: x[0])\n",
    "        compteur = 0\n",
    "\n",
    "        if len(sorted_top_achat_indexed)==1:\n",
    "            borne_inf_index, borne_inf_prix = sorted_top_achat_indexed[compteur][0], sorted_top_achat_indexed[compteur][1]\n",
    "            borne_sup_index, borne_sup_prix = sorted_indexed_prices[-1:][0][0], sorted_indexed_prices[-1:][0][1]\n",
    "            sub_prices = prices[borne_inf_index:]\n",
    "            max_sub_prices = max(sub_prices)\n",
    "            profit = max_sub_prices - borne_inf_prix\n",
    "            if profit > 0:\n",
    "                sub_max_profit += profit\n",
    "            if sub_max_profit > max_profit:\n",
    "                max_profit = sub_max_profit\n",
    "            nb_max_operations -= 1\n",
    "\n",
    "        while compteur < nb_max_operations-1:\n",
    "            if len(sorted_top_achat_indexed) >1:\n",
    "                borne_inf_index, borne_inf_prix = sorted_top_achat_indexed[compteur][0], sorted_top_achat_indexed[compteur][1]\n",
    "                borne_sup_index, borne_sup_prix = sorted_top_achat_indexed[compteur+1][0], sorted_top_achat_indexed[compteur+1][1]\n",
    "            \n",
    "            sub_prices = prices[borne_inf_index:borne_sup_index]\n",
    "            max_sub_prices = max(sub_prices)\n",
    "            if max_sub_prices!=borne_sup_prix:\n",
    "                profit = max_sub_prices - borne_inf_prix\n",
    "                if profit > 0:\n",
    "                    sub_max_profit += profit\n",
    "            compteur +=1\n",
    "        if sub_max_profit > max_profit:\n",
    "            max_profit = sub_max_profit\n",
    "        nb_max_operations -= 1\n",
    "    return max_profit"
   ]
  },
  {
   "cell_type": "code",
   "execution_count": 152,
   "metadata": {},
   "outputs": [
    {
     "data": {
      "text/plain": [
       "4"
      ]
     },
     "execution_count": 152,
     "metadata": {},
     "output_type": "execute_result"
    }
   ],
   "source": [
    "prices = [1,2,3,4,5]\n",
    "maxProfit(prices)"
   ]
  },
  {
   "cell_type": "markdown",
   "metadata": {},
   "source": [
    "# First problem"
   ]
  },
  {
   "cell_type": "code",
   "execution_count": 38,
   "metadata": {},
   "outputs": [],
   "source": [
    "nums1 = [1,2,3,0,0,0]\n",
    "nums2 = [2,5,6]\n",
    "\n",
    "def merge(nums1, m, nums2, n):\n",
    "    \"\"\"\n",
    "    Do not return anything, modify nums1 in-place instead.\n",
    "    \"\"\"\n",
    "    p1, p2, p = m-1, n-1, m+n-1\n",
    "    while p1 >=0 and p2 >=0:\n",
    "        if nums1[p1] >= nums1[p2]:\n",
    "            nums1[p] = nums1[p1]\n",
    "            p1 -= 1\n",
    "        else:\n",
    "            nums1[p] = nums2[p2]\n",
    "            p2 -= 1\n",
    "        p -= 1\n",
    "    nums1[:p2+1] = nums2[:p2+1]\n",
    "    nums1.sort()\n",
    "    return None\n",
    "        \n",
    "\n",
    "merge(nums1, 3, nums2, 3)"
   ]
  },
  {
   "cell_type": "code",
   "execution_count": 39,
   "metadata": {},
   "outputs": [
    {
     "data": {
      "text/plain": [
       "[1, 2, 2, 3, 5, 6]"
      ]
     },
     "execution_count": 39,
     "metadata": {},
     "output_type": "execute_result"
    }
   ],
   "source": [
    "nums1"
   ]
  },
  {
   "cell_type": "markdown",
   "metadata": {},
   "source": [
    "# Problem"
   ]
  },
  {
   "cell_type": "code",
   "execution_count": 12,
   "metadata": {},
   "outputs": [
    {
     "data": {
      "text/plain": [
       "2"
      ]
     },
     "execution_count": 12,
     "metadata": {},
     "output_type": "execute_result"
    }
   ],
   "source": [
    "def majorityElement(nums):\n",
    "    n = len(nums)\n",
    "    unique_elements = []\n",
    "    dico_elements = {}\n",
    "    for element in nums:\n",
    "        if element not in unique_elements:\n",
    "            unique_elements.append(element)\n",
    "            dico_elements[element] = 1\n",
    "        else:\n",
    "            dico_elements[element] += 1\n",
    "    max_value = max(dico_elements.values())\n",
    "    keys_with_max_value = [key for key, value in dico_elements.items() if value == max_value]\n",
    "    return keys_with_max_value[0]\n",
    "\n",
    "nums = [2,2,1,1,1,2,2]\n",
    "majorityElement(nums)"
   ]
  },
  {
   "cell_type": "markdown",
   "metadata": {},
   "source": [
    "# Rotate Array\n",
    "\n",
    "Given an integer array nums, rotate the array to the right by k steps, where k is non-negative.\n",
    "\n",
    "Example 1:\n",
    "\n",
    "Input: nums = [1,2,3,4,5,6,7], k = 3\n",
    "\n",
    "Output: [5,6,7,1,2,3,4]\n",
    "\n",
    "Explanation:\n",
    "\n",
    "rotate 1 steps to the right: [7,1,2,3,4,5,6]\n",
    "\n",
    "rotate 2 steps to the right: [6,7,1,2,3,4,5]\n",
    "\n",
    "rotate 3 steps to the right: [5,6,7,1,2,3,4]"
   ]
  },
  {
   "cell_type": "code",
   "execution_count": 27,
   "metadata": {},
   "outputs": [
    {
     "data": {
      "text/plain": [
       "[5, 6, 7, 1, 2, 3]"
      ]
     },
     "execution_count": 27,
     "metadata": {},
     "output_type": "execute_result"
    }
   ],
   "source": [
    "nums = [1,2,3,4,5,6,7]\n",
    "def rotate(nums, k):\n",
    "    \"\"\"\n",
    "    Do not return anything, modify nums in-place instead.\n",
    "    \"\"\"\n",
    "    nums[:] = nums[-k:] + nums[:-k]\n",
    "\n",
    "rotate(nums,3)\n",
    "nums"
   ]
  },
  {
   "cell_type": "code",
   "execution_count": 49,
   "metadata": {},
   "outputs": [
    {
     "data": {
      "text/plain": [
       "([1, 2, 3, 4, 5, 6, 7], [1, 2, 3])"
      ]
     },
     "execution_count": 49,
     "metadata": {},
     "output_type": "execute_result"
    }
   ],
   "source": [
    "\n",
    "nums, nums[:3]"
   ]
  },
  {
   "cell_type": "markdown",
   "metadata": {},
   "source": [
    "# Jump Game\n",
    "\n",
    "You are given an integer array nums. You are initially positioned at the array's first index, and each element in the array represents your maximum jump length at that position.\n",
    "\n",
    "Return true if you can reach the last index, or false otherwise."
   ]
  },
  {
   "cell_type": "code",
   "execution_count": 165,
   "metadata": {},
   "outputs": [
    {
     "name": "stdout",
     "output_type": "stream",
     "text": [
      "2\n",
      "4\n",
      "4\n",
      "4\n",
      "8\n"
     ]
    },
    {
     "data": {
      "text/plain": [
       "True"
      ]
     },
     "execution_count": 165,
     "metadata": {},
     "output_type": "execute_result"
    }
   ],
   "source": [
    "def canJump(nums) :\n",
    "    max_reachable = 0\n",
    "    for i, jump in enumerate(nums):\n",
    "        if i > max_reachable:\n",
    "            return False\n",
    "        max_reachable = max(max_reachable, i + jump)\n",
    "        print(max_reachable)\n",
    "    return True\n",
    "\n",
    "nums = [2,3,1,1,4]\n",
    "canJump(nums)"
   ]
  },
  {
   "cell_type": "markdown",
   "metadata": {},
   "source": [
    "# H-Index\n",
    "\n",
    "Given an array of integers citations where citations[i] is the number of citations a researcher received for their ith paper, return the researcher's h-index.\n",
    "\n",
    "According to the definition of h-index on Wikipedia: The h-index is defined as the maximum value of h such that the given researcher has published at least h papers that have each been cited at least h times."
   ]
  },
  {
   "cell_type": "code",
   "execution_count": 28,
   "metadata": {},
   "outputs": [
    {
     "data": {
      "text/plain": [
       "3"
      ]
     },
     "execution_count": 28,
     "metadata": {},
     "output_type": "execute_result"
    }
   ],
   "source": [
    "def hIndex(citations):\n",
    "    indexed_citations = [[index, citation] for index, citation in enumerate(citations)]\n",
    "    sorted_indexed_citations = sorted(indexed_citations, key=lambda x: x[1])\n",
    "    medium_index = len(sorted_indexed_citations) // 2\n",
    "    return sorted_indexed_citations[medium_index][1]\n",
    "\n",
    "citations = [3,0,6,1,5]\n",
    "hIndex(citations)"
   ]
  },
  {
   "cell_type": "markdown",
   "metadata": {},
   "source": [
    "# Insert Delete GetRandom O(1)\n",
    "\n",
    "Implement the RandomizedSet class:\n",
    "\n",
    "RandomizedSet() Initializes the RandomizedSet object.\n",
    "bool insert(int val) Inserts an item val into the set if not present. Returns true if the item was not present, false otherwise.\n",
    "bool remove(int val) Removes an item val from the set if present. Returns true if the item was present, false otherwise.\n",
    "int getRandom() Returns a random element from the current set of elements (it's guaranteed that at least one element exists when this method is called). Each element must have the same probability of being returned.\n",
    "You must implement the functions of the class such that each function works in average O(1) time complexity."
   ]
  },
  {
   "cell_type": "code",
   "execution_count": 31,
   "metadata": {},
   "outputs": [],
   "source": [
    "import random\n",
    "class RandomizedSet:\n",
    "\n",
    "    def __init__(self):\n",
    "        self.set = []\n",
    "\n",
    "    def insert(self, val: int) -> bool:\n",
    "        if val in self.set:\n",
    "            bol = False\n",
    "        else:\n",
    "            self.set.append(val)\n",
    "            bol = True\n",
    "        return bol \n",
    "        \n",
    "\n",
    "    def remove(self, val: int) -> bool:\n",
    "        if val in self.set:\n",
    "            self.set.remove(val)\n",
    "            bol = True\n",
    "        else:\n",
    "            bol = False\n",
    "        return bol\n",
    "        \n",
    "\n",
    "    def getRandom(self) -> int:\n",
    "        return random.choice(self.set)"
   ]
  },
  {
   "cell_type": "markdown",
   "metadata": {},
   "source": [
    "# Product of Array Except Self\n",
    "\n",
    "Given an integer array nums, return an array answer such that answer[i] is equal to the product of all the elements of nums except nums[i].\n",
    "\n",
    "The product of any prefix or suffix of nums is guaranteed to fit in a 32-bit integer.\n",
    "\n",
    "You must write an algorithm that runs in O(n) time and without using the division operation."
   ]
  },
  {
   "cell_type": "code",
   "execution_count": 6,
   "metadata": {},
   "outputs": [
    {
     "ename": "NameError",
     "evalue": "name 'List' is not defined",
     "output_type": "error",
     "traceback": [
      "\u001b[0;31m---------------------------------------------------------------------------\u001b[0m",
      "\u001b[0;31mNameError\u001b[0m                                 Traceback (most recent call last)",
      "\u001b[0;32m/var/folders/bt/r1dg46ys21lb57m4n4x11m6c0000gn/T/ipykernel_1179/376202786.py\u001b[0m in \u001b[0;36m<module>\u001b[0;34m\u001b[0m\n\u001b[0;32m----> 1\u001b[0;31m \u001b[0;32mclass\u001b[0m \u001b[0mSolution\u001b[0m\u001b[0;34m:\u001b[0m\u001b[0;34m\u001b[0m\u001b[0;34m\u001b[0m\u001b[0m\n\u001b[0m\u001b[1;32m      2\u001b[0m     \u001b[0;32mdef\u001b[0m \u001b[0mproductExceptSelf\u001b[0m\u001b[0;34m(\u001b[0m\u001b[0mself\u001b[0m\u001b[0;34m,\u001b[0m \u001b[0mnums\u001b[0m\u001b[0;34m:\u001b[0m \u001b[0mList\u001b[0m\u001b[0;34m[\u001b[0m\u001b[0mint\u001b[0m\u001b[0;34m]\u001b[0m\u001b[0;34m)\u001b[0m \u001b[0;34m->\u001b[0m \u001b[0mList\u001b[0m\u001b[0;34m[\u001b[0m\u001b[0mint\u001b[0m\u001b[0;34m]\u001b[0m\u001b[0;34m:\u001b[0m\u001b[0;34m\u001b[0m\u001b[0;34m\u001b[0m\u001b[0m\n\u001b[1;32m      3\u001b[0m         \u001b[0mn\u001b[0m \u001b[0;34m=\u001b[0m \u001b[0mlen\u001b[0m\u001b[0;34m(\u001b[0m\u001b[0mnums\u001b[0m\u001b[0;34m)\u001b[0m\u001b[0;34m\u001b[0m\u001b[0;34m\u001b[0m\u001b[0m\n\u001b[1;32m      4\u001b[0m         \u001b[0;32mif\u001b[0m \u001b[0mn\u001b[0m\u001b[0;34m==\u001b[0m\u001b[0;36m0\u001b[0m\u001b[0;34m:\u001b[0m\u001b[0;34m\u001b[0m\u001b[0;34m\u001b[0m\u001b[0m\n\u001b[1;32m      5\u001b[0m             \u001b[0;32mreturn\u001b[0m \u001b[0mnums\u001b[0m\u001b[0;34m\u001b[0m\u001b[0;34m\u001b[0m\u001b[0m\n",
      "\u001b[0;32m/var/folders/bt/r1dg46ys21lb57m4n4x11m6c0000gn/T/ipykernel_1179/376202786.py\u001b[0m in \u001b[0;36mSolution\u001b[0;34m()\u001b[0m\n\u001b[1;32m      1\u001b[0m \u001b[0;32mclass\u001b[0m \u001b[0mSolution\u001b[0m\u001b[0;34m:\u001b[0m\u001b[0;34m\u001b[0m\u001b[0;34m\u001b[0m\u001b[0m\n\u001b[0;32m----> 2\u001b[0;31m     \u001b[0;32mdef\u001b[0m \u001b[0mproductExceptSelf\u001b[0m\u001b[0;34m(\u001b[0m\u001b[0mself\u001b[0m\u001b[0;34m,\u001b[0m \u001b[0mnums\u001b[0m\u001b[0;34m:\u001b[0m \u001b[0mList\u001b[0m\u001b[0;34m[\u001b[0m\u001b[0mint\u001b[0m\u001b[0;34m]\u001b[0m\u001b[0;34m)\u001b[0m \u001b[0;34m->\u001b[0m \u001b[0mList\u001b[0m\u001b[0;34m[\u001b[0m\u001b[0mint\u001b[0m\u001b[0;34m]\u001b[0m\u001b[0;34m:\u001b[0m\u001b[0;34m\u001b[0m\u001b[0;34m\u001b[0m\u001b[0m\n\u001b[0m\u001b[1;32m      3\u001b[0m         \u001b[0mn\u001b[0m \u001b[0;34m=\u001b[0m \u001b[0mlen\u001b[0m\u001b[0;34m(\u001b[0m\u001b[0mnums\u001b[0m\u001b[0;34m)\u001b[0m\u001b[0;34m\u001b[0m\u001b[0;34m\u001b[0m\u001b[0m\n\u001b[1;32m      4\u001b[0m         \u001b[0;32mif\u001b[0m \u001b[0mn\u001b[0m\u001b[0;34m==\u001b[0m\u001b[0;36m0\u001b[0m\u001b[0;34m:\u001b[0m\u001b[0;34m\u001b[0m\u001b[0;34m\u001b[0m\u001b[0m\n\u001b[1;32m      5\u001b[0m             \u001b[0;32mreturn\u001b[0m \u001b[0mnums\u001b[0m\u001b[0;34m\u001b[0m\u001b[0;34m\u001b[0m\u001b[0m\n",
      "\u001b[0;31mNameError\u001b[0m: name 'List' is not defined"
     ]
    }
   ],
   "source": [
    "class Solution:\n",
    "    def productExceptSelf(self, nums: List[int]) -> List[int]:\n",
    "        n = len(nums)\n",
    "        if n==0:\n",
    "            return nums\n",
    "        else:\n",
    "            left = [1] * n\n",
    "            right = [1] * n \n",
    "            result = [1] * n\n",
    "            for i in range(1,n):\n",
    "                left[i] = left[i-1] * nums[i-1]\n",
    "            for j in range(n-2,-1,-1):\n",
    "                right[j] = right[j+1] * nums[j+1]\n",
    "            for k in range(n):\n",
    "                result[k] = left[k] * right[k]\n",
    "\n",
    "            return result"
   ]
  },
  {
   "cell_type": "markdown",
   "metadata": {},
   "source": [
    "# Gas Station\n",
    "\n",
    "There are n gas stations along a circular route, where the amount of gas at the ith station is gas[i].\n",
    "\n",
    "You have a car with an unlimited gas tank and it costs cost[i] of gas to travel from the ith station to its next (i + 1)th station. You begin the journey with an empty tank at one of the gas stations.\n",
    "\n",
    "Given two integer arrays gas and cost, return the starting gas station's index if you can travel around the circuit once in the clockwise direction, otherwise return -1. If there exists a solution, it is guaranteed to be unique"
   ]
  },
  {
   "cell_type": "code",
   "execution_count": 7,
   "metadata": {},
   "outputs": [],
   "source": [
    "def canCompleteCircuit(gas, cost):\n",
    "    total_tank, current_tank = 0, 0\n",
    "    starting_station = 0\n",
    "    n = len(gas)\n",
    "\n",
    "    for i in range(n):\n",
    "        total_tank += gas[i] - cost[i]\n",
    "        current_tank += gas[i] - cost[i]\n",
    "        \n",
    "        # If one couldn't get here,\n",
    "        if current_tank < 0:\n",
    "            # Pick up the next station as the starting one.\n",
    "            starting_station = i + 1\n",
    "            # Start with an empty tank.\n",
    "            current_tank = 0"
   ]
  },
  {
   "cell_type": "markdown",
   "metadata": {},
   "source": [
    "# Trapping Rain Water\n",
    "\n",
    "Given n non-negative integers representing an elevation map where the width of each bar is 1, compute how much water it can trap after raining."
   ]
  },
  {
   "cell_type": "code",
   "execution_count": 20,
   "metadata": {},
   "outputs": [
    {
     "name": "stdout",
     "output_type": "stream",
     "text": [
      "2 4\n",
      "0 4\n",
      "3 4\n",
      "2 4\n"
     ]
    },
    {
     "data": {
      "text/plain": [
       "9"
      ]
     },
     "execution_count": 20,
     "metadata": {},
     "output_type": "execute_result"
    }
   ],
   "source": [
    "def trap(height):\n",
    "    total_water = 0\n",
    "    n = len(height)\n",
    "    walls = [index for index, value in enumerate(height) if value!=0] \n",
    "    first_wall_index = walls[0]\n",
    "    last_wall_index = walls[-1]\n",
    "    \n",
    "    # Fonction pour savoir si on se trouve bien entre les murs \n",
    "    def is_in_walls(indice):\n",
    "        if (indice >= first_wall_index) & (indice <= last_wall_index):\n",
    "            return True\n",
    "        else:\n",
    "            return False\n",
    "        \n",
    "    zeros_index_considered = [index for index, value in enumerate(height) if value==0]\n",
    "    for indice, element in enumerate(zeros_index_considered):\n",
    "        if indice < first_wall_index:\n",
    "            zeros_index_considered.remove(element)\n",
    "        elif indice > last_wall_index:\n",
    "            zeros_index_considered.remove(element)\n",
    "\n",
    "    for indice, element in enumerate(height):\n",
    "        if (indice > first_wall_index) & (indice < last_wall_index):\n",
    "            index_left_top_value, left_top_value = max(range(len(height[:indice+1])), key=lambda x: height[:indice+1][x]), max(height[:indice+1])\n",
    "            index_right_top_value, right_top_value = max(range(len(height[indice+1:])), key=lambda x: height[indice+1:][x]), max(height[indice+1:])\n",
    "            ref = min(left_top_value, right_top_value)\n",
    "            print(element, ref)\n",
    "            if element < ref:\n",
    "                total_water += ref - element\n",
    "\n",
    "    return total_water\n",
    "            \n",
    "\n",
    "height = [4,2,0,3,2,5]\n",
    "trap(height)"
   ]
  },
  {
   "cell_type": "markdown",
   "metadata": {},
   "source": [
    "# Roman to Integer"
   ]
  },
  {
   "cell_type": "code",
   "execution_count": 9,
   "metadata": {},
   "outputs": [
    {
     "data": {
      "text/plain": [
       "1994"
      ]
     },
     "execution_count": 9,
     "metadata": {},
     "output_type": "execute_result"
    }
   ],
   "source": [
    "def romanToInt(s):\n",
    "    value = 0\n",
    "    dico_mapping = {'I' : 1, \n",
    "                'V' : 5, \n",
    "                'X' : 10, \n",
    "                'L' : 50, \n",
    "                'C' : 100, \n",
    "                'D' : 500, \n",
    "                'M' : 1000}\n",
    "    liste_value = [element for element in s]\n",
    "    n = len(liste_value)\n",
    "    compteur = 0 \n",
    "    while compteur <=n-1:\n",
    "        current_value = liste_value[compteur]\n",
    "        #Cas 1\n",
    "        if current_value=='I': \n",
    "            if compteur+1 <=n-1:\n",
    "                if liste_value[compteur+1]=='X':\n",
    "                    value += 9\n",
    "                    compteur +=2\n",
    "                elif liste_value[compteur+1]=='V':\n",
    "                    value += 4\n",
    "                    compteur +=2\n",
    "                else:\n",
    "                    value += dico_mapping['I']\n",
    "                    compteur +=1\n",
    "            else:\n",
    "                value += dico_mapping['I']\n",
    "                compteur +=1\n",
    "        # Cas 2\n",
    "        elif current_value == 'X':\n",
    "            if compteur+1 <=n-1:\n",
    "                if liste_value[compteur+1]=='L':\n",
    "                    value += 40\n",
    "                    compteur +=2\n",
    "                elif liste_value[compteur+1]=='C':\n",
    "                    value += 90\n",
    "                    compteur +=2\n",
    "                else:\n",
    "                    value += dico_mapping['X']\n",
    "                    compteur +=1\n",
    "            else:\n",
    "                value += dico_mapping['X']\n",
    "                compteur +=1\n",
    "\n",
    "        # Cas 3\n",
    "        elif current_value == 'C':\n",
    "            if compteur+1 <=n-1:\n",
    "                if liste_value[compteur+1]=='D':\n",
    "                    value += 400\n",
    "                    compteur +=2\n",
    "                elif liste_value[compteur+1]=='M':\n",
    "                    value += 900\n",
    "                    compteur +=2\n",
    "                else:\n",
    "                    value += dico_mapping['C']\n",
    "                    compteur +=1\n",
    "            else:\n",
    "                value += dico_mapping['C']\n",
    "                compteur +=1\n",
    "        else:\n",
    "            value += dico_mapping[current_value]\n",
    "            compteur +=1\n",
    "    return value \n",
    "\n",
    "s = \"MCMXCIV\"\n",
    "romanToInt(s)"
   ]
  },
  {
   "cell_type": "markdown",
   "metadata": {},
   "source": [
    "# Integer to Roman"
   ]
  },
  {
   "cell_type": "code",
   "execution_count": 17,
   "metadata": {},
   "outputs": [
    {
     "data": {
      "text/plain": [
       "'MCMXCIV'"
      ]
     },
     "execution_count": 17,
     "metadata": {},
     "output_type": "execute_result"
    }
   ],
   "source": [
    "def intToRoman(num):\n",
    "    # 1<=num<=3999\n",
    "    s = \"\"\n",
    "    num = str(num)\n",
    "    liste_num = [int(element) for element in num]\n",
    "    n = len(liste_num)\n",
    "    if n==4:\n",
    "        s += 'M' * liste_num[0]\n",
    "        liste_num.remove(liste_num[0])\n",
    "        n = len(liste_num)\n",
    "    if n==3:\n",
    "        value = liste_num[0]\n",
    "        liste_num.remove(value)\n",
    "        if value <=3:\n",
    "            s += 'C' * value \n",
    "        elif value == 4:\n",
    "            s += 'CD'\n",
    "        elif value == 5:\n",
    "            s += 'D'\n",
    "        elif (value <= 8) & (value >= 5):\n",
    "            s += 'D'\n",
    "            number_of_C = (value - 5) \n",
    "            s += 'C' * number_of_C\n",
    "        else:\n",
    "            s += 'CM'\n",
    "        n = len(liste_num)\n",
    "    if n==2:\n",
    "        value = liste_num[0]\n",
    "        liste_num.remove(value) \n",
    "        if value <=3:\n",
    "            s += 'X' * value \n",
    "        elif value == 4:\n",
    "            s += 'XL'\n",
    "        elif value == 5:\n",
    "            s += 'L'\n",
    "        elif (value <= 8) & (value >= 5):\n",
    "            s += 'L'\n",
    "            number_of_C = (value - 5)\n",
    "            s += 'X' * number_of_C\n",
    "        else:\n",
    "            s += 'XC'\n",
    "        n = len(liste_num)\n",
    "    if n==1:\n",
    "        value = liste_num[0]\n",
    "        liste_num.remove(value) \n",
    "        if value <=3:\n",
    "            s += 'I' * value \n",
    "        elif value == 4:\n",
    "            s += 'IV'\n",
    "        elif value == 5:\n",
    "            s += 'V'\n",
    "        elif (value <= 8) & (value >= 5):\n",
    "            s += 'V'\n",
    "            number_of_C = (value - 5)\n",
    "            s += 'I' * number_of_C\n",
    "        else:\n",
    "            s += 'IX'\n",
    "    \n",
    "    return s\n",
    "                \n",
    "num = 1994\n",
    "intToRoman(num)"
   ]
  },
  {
   "cell_type": "code",
   "execution_count": 12,
   "metadata": {},
   "outputs": [
    {
     "data": {
      "text/plain": [
       "'MMMM'"
      ]
     },
     "execution_count": 12,
     "metadata": {},
     "output_type": "execute_result"
    }
   ],
   "source": [
    "dico_mapping = {\n",
    "                1: 'I', \n",
    "                5: 'V', \n",
    "                10: 'X', \n",
    "                50: 'L', \n",
    "                100: 'C', \n",
    "                500: 'D', \n",
    "                1000: 'M'\n",
    "                }"
   ]
  },
  {
   "cell_type": "code",
   "execution_count": 67,
   "metadata": {},
   "outputs": [
    {
     "name": "stdout",
     "output_type": "stream",
     "text": [
      "8\n",
      "13\n"
     ]
    },
    {
     "data": {
      "text/plain": [
       "['This    is    an', 'example  of text', 'justification.  ']"
      ]
     },
     "execution_count": 67,
     "metadata": {},
     "output_type": "execute_result"
    }
   ],
   "source": [
    "def fullJustify(words, maxWidth):\n",
    "    m = maxWidth\n",
    "    liste = []\n",
    "    current_line = \"\"\n",
    "    current_line_count = 0\n",
    "    for element in words:\n",
    "        if current_line_count + len(element) <= m:\n",
    "            current_line += element + ' '\n",
    "            current_line_count += len(element) + 1\n",
    "        else:\n",
    "            current_line = current_line \n",
    "            liste.append(current_line.strip())\n",
    "            current_line = element + \" \"\n",
    "            current_line_count = len(element) + 1\n",
    "    liste.append(current_line.strip())\n",
    "    for j, element in enumerate(liste):\n",
    "        liste_mots = element.split(\" \")\n",
    "        if len(liste_mots) > 1:\n",
    "            n = sum(len(mot) for mot in liste_mots)\n",
    "            reste = m - n\n",
    "            taille = len(liste_mots)\n",
    "            compteur = 0\n",
    "            while reste !=0:\n",
    "                if compteur < taille - 1:\n",
    "                    liste_mots[compteur] = liste_mots[compteur] + ' '\n",
    "                    reste -= 1\n",
    "                    compteur += 1\n",
    "                else: \n",
    "                    compteur = 0\n",
    "            liste[j] = ''.join(liste_mots)\n",
    "        else:\n",
    "            n = len(element)\n",
    "            reste = m - n\n",
    "            liste[j] = element + ' ' * reste\n",
    "    return liste\n",
    "\n",
    "words = [\"This\", \"is\", \"an\", \"example\", \"of\", \"text\", \"justification.\"]\n",
    "fullJustify(words, 16)"
   ]
  },
  {
   "cell_type": "code",
   "execution_count": 8,
   "metadata": {},
   "outputs": [
    {
     "name": "stdout",
     "output_type": "stream",
     "text": [
      "amanaplanacanalpanama\n"
     ]
    },
    {
     "data": {
      "text/plain": [
       "True"
      ]
     },
     "execution_count": 8,
     "metadata": {},
     "output_type": "execute_result"
    }
   ],
   "source": [
    "def isPalindrome(s):\n",
    "    liste_mots = s.split(' ')\n",
    "    liste_lettres = [lettre for mot in liste_mots for lettre in mot]\n",
    "    cancel = [\":\", \".\", \";\", \",\", \"!\", \"?\", ' ']\n",
    "    liste_lettres_filtered = [lettre.lower() for lettre in liste_lettres if lettre not in cancel]\n",
    "    output = ''.join(liste_lettres_filtered)\n",
    "    if output == output[::-1]:\n",
    "        return True\n",
    "    else:\n",
    "        return False\n",
    "    \n",
    "s = \"A man, a plan, a canal: Panama\"\n",
    "isPalindrome(s)"
   ]
  },
  {
   "cell_type": "code",
   "execution_count": 13,
   "metadata": {},
   "outputs": [
    {
     "data": {
      "text/plain": [
       "[[-1, 0, 1], [-1, 2, -1]]"
      ]
     },
     "execution_count": 13,
     "metadata": {},
     "output_type": "execute_result"
    }
   ],
   "source": [
    "def threeSum(nums):\n",
    "    solutions = []\n",
    "    n = len(nums)\n",
    "    for i1, element1 in enumerate(nums): \n",
    "        \n",
    "        for i2, element2 in enumerate(nums[i1+1:]):\n",
    "            if i1 + 1 + i2 + 1 <= n-1:\n",
    "                compteur = i1 + 1 + i2 + 1\n",
    "                element3 = nums[compteur]\n",
    "                while compteur <= n-1:\n",
    "                    if element1 + element2 + element3 == 0:\n",
    "                        solutions.append([element1, element2, element3])\n",
    "                        compteur +=1\n",
    "                    else:\n",
    "                        compteur +=1\n",
    "        solutions_unique = []\n",
    "        for sol in solutions:\n",
    "            if sol not in solutions_unique:\n",
    "                solutions_unique.append(sol)\n",
    "    return solutions_unique\n",
    "\n",
    "threeSum([-1,0,1,2,-1,-4])"
   ]
  },
  {
   "cell_type": "code",
   "execution_count": 18,
   "metadata": {},
   "outputs": [
    {
     "name": "stdout",
     "output_type": "stream",
     "text": [
      "6\n",
      "[2, 3, 1, 2, 4, 3]\n",
      "[2, 3, 1, 2, 3]\n"
     ]
    },
    {
     "data": {
      "text/plain": [
       "2"
      ]
     },
     "execution_count": 18,
     "metadata": {},
     "output_type": "execute_result"
    }
   ],
   "source": [
    "def minSubArrayLen(target, nums):\n",
    "    sum = 0 \n",
    "    output = 0\n",
    "    print(len(nums))\n",
    "    while (sum < target) & (len(nums) > 0):\n",
    "        print(nums)\n",
    "        sum += max(nums)\n",
    "        nums.remove(max(nums))\n",
    "        output += 1\n",
    "    if sum < target:\n",
    "        output = 0\n",
    "    return output \n",
    "\n",
    "minSubArrayLen(7, [2,3,1,2,4,3])"
   ]
  },
  {
   "cell_type": "code",
   "execution_count": 27,
   "metadata": {},
   "outputs": [
    {
     "data": {
      "text/plain": [
       "4"
      ]
     },
     "execution_count": 27,
     "metadata": {},
     "output_type": "execute_result"
    }
   ],
   "source": [
    "def maximalSquare(matrix):\n",
    "    largest_square = 0\n",
    "    rows = len(matrix)\n",
    "    cols = len(matrix[0]) if rows > 0 else 0\n",
    "    for indice_row, row in enumerate(matrix): \n",
    "        for indice, element in enumerate(row): \n",
    "            if element == \"1\":\n",
    "                largeur_indice = indice + 1\n",
    "                while (largeur_indice < cols) and (row[largeur_indice] == \"1\"):\n",
    "                    largeur_indice += 1\n",
    "                largeur_max = largeur_indice - indice\n",
    "                longueur_indice = indice_row + 1\n",
    "                while (longueur_indice < rows) and (matrix[longueur_indice][indice] == \"1\"):\n",
    "                    longueur_indice += 1\n",
    "                longueur_max = longueur_indice - indice_row\n",
    "                square = min(largeur_max, longueur_max) ** 2\n",
    "                if square > largest_square:\n",
    "                    largest_square = square \n",
    "    return largest_square\n",
    "\n",
    "matrix = [[\"1\",\"0\",\"1\",\"0\",\"0\"],[\"1\",\"0\",\"1\",\"1\",\"1\"],[\"1\",\"1\",\"1\",\"1\",\"1\"],[\"1\",\"0\",\"0\",\"1\",\"0\"]]\n",
    "maximalSquare(matrix)"
   ]
  }
 ],
 "metadata": {
  "kernelspec": {
   "display_name": "base",
   "language": "python",
   "name": "python3"
  },
  "language_info": {
   "codemirror_mode": {
    "name": "ipython",
    "version": 3
   },
   "file_extension": ".py",
   "mimetype": "text/x-python",
   "name": "python",
   "nbconvert_exporter": "python",
   "pygments_lexer": "ipython3",
   "version": "3.9.12"
  }
 },
 "nbformat": 4,
 "nbformat_minor": 2
}
