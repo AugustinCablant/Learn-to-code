{
 "cells": [
  {
   "cell_type": "code",
   "execution_count": 1,
   "metadata": {},
   "outputs": [],
   "source": [
    "import string"
   ]
  },
  {
   "cell_type": "code",
   "execution_count": 5,
   "metadata": {},
   "outputs": [
    {
     "data": {
      "text/plain": [
       "0"
      ]
     },
     "execution_count": 5,
     "metadata": {},
     "output_type": "execute_result"
    }
   ],
   "source": [
    "alphabet = string.ascii_uppercase\n",
    "alphabet.index('A')"
   ]
  },
  {
   "cell_type": "code",
   "execution_count": 13,
   "metadata": {},
   "outputs": [
    {
     "name": "stdout",
     "output_type": "stream",
     "text": [
      "-6\n",
      "-6\n"
     ]
    },
    {
     "data": {
      "text/plain": [
       "'JULUDI'"
      ]
     },
     "execution_count": 13,
     "metadata": {},
     "output_type": "execute_result"
    }
   ],
   "source": [
    "def simpleCipher(encrypted, k):\n",
    "    # Write your code here\n",
    "    alphabet = list(string.ascii_uppercase)\n",
    "    decrypted = \"\"\n",
    "    for lettre in list(encrypted):\n",
    "        index_lettre = alphabet.index(lettre)\n",
    "        if index_lettre >= k-1:\n",
    "            nouvelle_lettre = alphabet[index_lettre - k]\n",
    "        else:\n",
    "            nouvelle_index = (index_lettre - k) % len(alphabet)\n",
    "            nouvelle_lettre = alphabet[nouvelle_index]\n",
    "            print((index_lettre - k))\n",
    "        \n",
    "        decrypted += nouvelle_lettre\n",
    "    return decrypted\n",
    "\n",
    "simpleCipher('VGXGPU', 12)"
   ]
  },
  {
   "cell_type": "code",
   "execution_count": 18,
   "metadata": {},
   "outputs": [
    {
     "data": {
      "text/plain": [
       "[1, 2, 3, 4]"
      ]
     },
     "execution_count": 18,
     "metadata": {},
     "output_type": "execute_result"
    }
   ],
   "source": [
    "sorted([1,4,2,3])"
   ]
  },
  {
   "cell_type": "code",
   "execution_count": null,
   "metadata": {},
   "outputs": [],
   "source": []
  }
 ],
 "metadata": {
  "kernelspec": {
   "display_name": "base",
   "language": "python",
   "name": "python3"
  },
  "language_info": {
   "codemirror_mode": {
    "name": "ipython",
    "version": 3
   },
   "file_extension": ".py",
   "mimetype": "text/x-python",
   "name": "python",
   "nbconvert_exporter": "python",
   "pygments_lexer": "ipython3",
   "version": "3.12.4"
  }
 },
 "nbformat": 4,
 "nbformat_minor": 2
}
