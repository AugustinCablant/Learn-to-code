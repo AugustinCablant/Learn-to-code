{
 "cells": [
  {
   "cell_type": "code",
   "execution_count": null,
   "metadata": {},
   "outputs": [],
   "source": [
    "class Training():\n",
    "    def __init__(self, type_séance, nb_rep, duree_rep):\n",
    "        \"\"\"\n",
    "        type_séance : [VMA_C, VMA_L, SPE_10, SPE_SEMI, SEUIL, TEMPO] \n",
    "        nb_rep : int\n",
    "        duree_rep : datetime\n",
    "        duree_rep : datetime \n",
    "        \"\"\"\n",
    "        self.type_séance = type_séance\n",
    "        self.nb_rep = nb_rep \n",
    "        self.duree_rep = duree_rep\n",
    "    \n",
    "    \n",
    "        "
   ]
  }
 ],
 "metadata": {
  "language_info": {
   "name": "python"
  }
 },
 "nbformat": 4,
 "nbformat_minor": 2
}
